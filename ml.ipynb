{
 "cells": [
  {
   "cell_type": "markdown",
   "metadata": {},
   "source": [
    "# 1、数据清理"
   ]
  },
  {
   "cell_type": "code",
   "execution_count": 49,
   "metadata": {},
   "outputs": [],
   "source": [
    "import pandas as pd\n",
    "import numpy as np\n",
    "\n",
    "path='D:/code/test_2018.10/machine learning/datasets/Data.csv'\n",
    "data=pd.read_csv(path,engine='python')\n",
    "x=data.iloc[:,:-1].values\n",
    "y=data.iloc[:,3].values\n",
    "\n",
    "#空值处理\n",
    "from sklearn.preprocessing import Imputer\n",
    "im=Imputer(missing_values='NaN',strategy='mean',axis=0)\n",
    "x[:,1:3]=im.fit_transform(x[:,1:3])\n",
    "\n",
    "#字符编码\n",
    "from sklearn.preprocessing import LabelEncoder,OneHotEncoder\n",
    "xenc=OneHotEncoder(categorical_features=[0],sparse = False)\n",
    "yenc=LabelEncoder()\n",
    "x[:,0]=yenc.fit_transform(x[:,0])\n",
    "x=xenc.fit_transform(x)\n",
    "y=yenc.fit_transform(y)"
   ]
  },
  {
   "cell_type": "markdown",
   "metadata": {},
   "source": [
    "# 2、数据集划分"
   ]
  },
  {
   "cell_type": "code",
   "execution_count": 23,
   "metadata": {},
   "outputs": [],
   "source": [
    "#留出法 holdout\n",
    "from sklearn.model_selection import train_test_split\n",
    "x_train,x_test,y_train,y_test=train_test_split(x,y,test_size=0.3)"
   ]
  },
  {
   "cell_type": "code",
   "execution_count": 38,
   "metadata": {},
   "outputs": [],
   "source": [
    "#K折交叉验证\n",
    "from sklearn.model_selection import KFold\n",
    "k=5\n",
    "kf=KFold(n_splits=k)\n",
    "#kf.get_n_splits(x)\n",
    "for train_index,test_index in kf.split(x):\n",
    "    x_train,x_test=x[train_index],x[test_index]\n",
    "    y_train,y_test=y[train_index],y[test_index]"
   ]
  },
  {
   "cell_type": "code",
   "execution_count": 39,
   "metadata": {},
   "outputs": [],
   "source": [
    "#分层K折交叉验证\n",
    "from sklearn.model_selection import StratifiedKFold\n",
    "k=5\n",
    "skf=StratifiedKFold(n_splits=k)\n",
    "for train_index,test_index in skf.split(x,y):\n",
    "    x_train,x_test=x[train_index],x[test_index]\n",
    "    y_train,y_test=y[train_index],y[test_index]"
   ]
  },
  {
   "cell_type": "markdown",
   "metadata": {},
   "source": [
    "# 3、模型评估"
   ]
  },
  {
   "cell_type": "code",
   "execution_count": 71,
   "metadata": {},
   "outputs": [],
   "source": [
    "from sklearn.datasets import load_iris\n",
    "from sklearn.linear_model import LinearRegression\n",
    "from sklearn.linear_model import LogisticRegression\n",
    "from \n",
    "iris = load_iris()\n",
    "xx=iris.data\n",
    "yy=iris.target\n"
   ]
  },
  {
   "cell_type": "code",
   "execution_count": null,
   "metadata": {},
   "outputs": [],
   "source": []
  }
 ],
 "metadata": {
  "kernelspec": {
   "display_name": "Python [conda env:Anaconda3]",
   "language": "python",
   "name": "conda-env-Anaconda3-py"
  },
  "language_info": {
   "codemirror_mode": {
    "name": "ipython",
    "version": 3
   },
   "file_extension": ".py",
   "mimetype": "text/x-python",
   "name": "python",
   "nbconvert_exporter": "python",
   "pygments_lexer": "ipython3",
   "version": "3.7.0"
  }
 },
 "nbformat": 4,
 "nbformat_minor": 2
}
