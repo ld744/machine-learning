{
 "cells": [
  {
   "cell_type": "markdown",
   "metadata": {},
   "source": [
    "# 1、数据清理"
   ]
  },
  {
   "cell_type": "code",
   "execution_count": 1,
   "metadata": {},
   "outputs": [],
   "source": [
    "import pandas as pd\n",
    "import numpy as np\n",
    "\n",
    "path='D:/code/test_2018.10/machine learning/datasets/Data.csv'\n",
    "data=pd.read_csv(path,engine='python')\n",
    "x=data.iloc[:,:-1].values\n",
    "y=data.iloc[:,3].values\n",
    "\n",
    "#空值处理\n",
    "from sklearn.preprocessing import Imputer\n",
    "im=Imputer(missing_values='NaN',strategy='mean',axis=0)\n",
    "x[:,1:3]=im.fit_transform(x[:,1:3])\n",
    "\n",
    "#字符编码\n",
    "from sklearn.preprocessing import LabelEncoder,OneHotEncoder\n",
    "xenc=OneHotEncoder(categorical_features=[0],sparse = False)\n",
    "yenc=LabelEncoder()\n",
    "x[:,0]=yenc.fit_transform(x[:,0])\n",
    "x=xenc.fit_transform(x)\n",
    "y=yenc.fit_transform(y)\n",
    "\n",
    "#归一化\n",
    "from sklearn.preprocessing import StandardScaler  #Z变换\n",
    "from sklearn.preprocessing import MinMaxScaler    #0-1\n",
    "from sklearn.preprocessing import Normalizer      #正则化\n",
    "std=StandardScaler()\n",
    "minmax=MinMaxScaler()\n",
    "norm = Normalizer()"
   ]
  },
  {
   "cell_type": "markdown",
   "metadata": {},
   "source": [
    "# 2、数据集划分"
   ]
  },
  {
   "cell_type": "code",
   "execution_count": null,
   "metadata": {},
   "outputs": [],
   "source": [
    "#留出法 holdout\n",
    "from sklearn.model_selection import train_test_split\n",
    "x_train,x_test,y_train,y_test=train_test_split(x,y,test_size=0.3)"
   ]
  },
  {
   "cell_type": "code",
   "execution_count": null,
   "metadata": {},
   "outputs": [],
   "source": [
    "#K折交叉验证\n",
    "from sklearn.model_selection import KFold\n",
    "k=5\n",
    "kf=KFold(n_splits=k)\n",
    "#kf.get_n_splits(x)\n",
    "for train_index,test_index in kf.split(x):\n",
    "    x_train,x_test=x[train_index],x[test_index]\n",
    "    y_train,y_test=y[train_index],y[test_index]"
   ]
  },
  {
   "cell_type": "code",
   "execution_count": null,
   "metadata": {},
   "outputs": [],
   "source": [
    "#分层K折交叉验证\n",
    "from sklearn.model_selection import StratifiedKFold\n",
    "k=5\n",
    "skf=StratifiedKFold(n_splits=k)\n",
    "for train_index,test_index in skf.split(x,y):\n",
    "    x_train,x_test=x[train_index],x[test_index]\n",
    "    y_train,y_test=y[train_index],y[test_index]\n",
    "    print(y_train)"
   ]
  },
  {
   "cell_type": "markdown",
   "metadata": {},
   "source": [
    "# 3、模型评估"
   ]
  },
  {
   "cell_type": "code",
   "execution_count": null,
   "metadata": {},
   "outputs": [],
   "source": [
    "from sklearn.model_selection import cross_val_score\n",
    "from sklearn.model_selection import cross_validate\n",
    "from sklearn.datasets import load_iris\n",
    "from sklearn.linear_model import LinearRegression\n",
    "from sklearn.linear_model import LogisticRegression\n",
    "from sklearn.svm import SVC\n",
    "from sklearn.tree import DecisionTreeRegressor\n",
    "from sklearn.naive_bayes import GaussianNB\n",
    "\n",
    "iris = load_iris()\n",
    "xx=iris.data\n",
    "yy=iris.target\n",
    "\n",
    "k=5\n",
    "lr=LinearRegression()\n",
    "tree=DecisionTreeRegressor()\n",
    "by = GaussianNB() \n",
    "svc=SVC(kernel='linear')\n",
    "\n",
    "#cv为整数默认调用分层k折，可以自己定义cv=KFold(n_splits=k)\n",
    "lr_score=cross_val_score(lr,xx,yy,cv=k)\n",
    "tree_score=cross_val_score(tree,xx,yy,cv=k)\n",
    "by_score=cross_val_score(by,xx,yy,cv=k)\n",
    "svc_score=cross_val_score(svc,xx,yy,cv=k)\n",
    "\n",
    "print(lr_score.mean())\n",
    "print(tree_score.mean())\n",
    "print(by_score.mean())\n",
    "print(svc_score.mean())\n"
   ]
  },
  {
   "cell_type": "code",
   "execution_count": null,
   "metadata": {},
   "outputs": [],
   "source": [
    "lr_score1=cross_validate(lr,xx,yy,cv=k,return_train_score=False)\n",
    "tree_score1=cross_validate(tree,xx,yy,cv=k,return_train_score=False)\n",
    "by_score1=cross_validate(by,xx,yy,cv=k,return_train_score=False)\n",
    "svc_score1=cross_validate(svc,xx,yy,cv=k,return_train_score=False)\n",
    "\n",
    "print(lr_score1['fit_time'].mean(),lr_score1['score_time'].mean(),lr_score1['test_score'].mean())\n",
    "print(tree_score1['fit_time'].mean(),tree_score1['score_time'].mean(),tree_score1['test_score'].mean())\n",
    "print(by_score1['fit_time'].mean(),by_score1['score_time'].mean(),by_score1['test_score'].mean())\n",
    "print(svc_score1['fit_time'].mean(),svc_score1['score_time'].mean(),svc_score1['test_score'].mean())\n",
    "\n",
    "#设置多个评估指标 P-R\n",
    "#scoring = ['precision_macro', 'recall_macro']  \n",
    "#tree_score1=cross_validate(tree,xx,yy,scoring=scoring,cv=k,return_train_score=False)\n",
    "#by_score1=cross_validate(by,xx,yy,scoring=scoring,cv=k,return_train_score=False)\n",
    "#svc_score1=cross_validate(svc,xx,yy,scoring=scoring,cv=k,return_train_score=False)\n",
    "\n",
    "#print(tree_score1['test_precision_macro'].mean(),tree_score1['test_recall_macro'].mean())\n",
    "#print(by_score1['test_precision_macro'].mean(),by_score1['test_recall_macro'].mean())\n",
    "#print(svc_score1['test_precision_macro'].mean(),svc_score1['test_recall_macro'].mean())"
   ]
  },
  {
   "cell_type": "code",
   "execution_count": null,
   "metadata": {},
   "outputs": [],
   "source": [
    "#联合评估\n",
    "from sklearn.linear_model import LinearRegression\n",
    "from sklearn.linear_model import LogisticRegression\n",
    "from sklearn.svm import SVC\n",
    "from sklearn.tree import DecisionTreeRegressor\n",
    "from sklearn.naive_bayes import GaussianNB\n",
    "from sklearn.pipeline import Pipeline\n",
    "from sklearn.model_selection import cross_val_score\n",
    "\n",
    "lr=LinearRegression()\n",
    "tree=DecisionTreeRegressor()\n",
    "by = GaussianNB() \n",
    "svc=SVC(kernel='linear')\n",
    "lr_pipe=Pipeline([('norm',norm),('clf',lr)])\n",
    "lr_pipe.fit(x,y)\n",
    "tree_pipe=Pipeline([('norm',norm),('clf',tree)])\n",
    "tree_pipe.fit(x,y)\n",
    "by_pipe=Pipeline([('norm',norm),('clf',by)])\n",
    "by_pipe.fit(x,y)\n",
    "svc_pipe=Pipeline([('norm',norm),('clf',svc)])\n",
    "svc_pipe.fit(x,y)\n",
    "print(lr_pipe.score(x,y))\n",
    "print(tree_pipe.score(x,y))\n",
    "print(by_pipe.score(x,y))\n",
    "print(svc_pipe.score(x,y))\n",
    "\n",
    "k=5\n",
    "lr_pipe_score=cross_val_score(lr_pipe,x,y,cv=kf)\n",
    "tree_pipe_score=cross_val_score(tree_pipe,x,y,cv=kf)\n",
    "by_pipe_score=cross_val_score(by_pipe,x,y,cv=kf)\n",
    "svc_pipe_score=cross_val_score(svc_pipe,x,y,cv=kf)\n",
    "print(lr_pipe_score.mean())\n",
    "print(tree_pipe_score.mean())\n",
    "print(by_pipe_score.mean())\n",
    "print(svc_pipe_score.mean())\n",
    "\n"
   ]
  }
 ],
 "metadata": {
  "kernelspec": {
   "display_name": "Python 3",
   "language": "python",
   "name": "python3"
  },
  "language_info": {
   "codemirror_mode": {
    "name": "ipython",
    "version": 3
   },
   "file_extension": ".py",
   "mimetype": "text/x-python",
   "name": "python",
   "nbconvert_exporter": "python",
   "pygments_lexer": "ipython3",
   "version": "3.6.6"
  }
 },
 "nbformat": 4,
 "nbformat_minor": 2
}
