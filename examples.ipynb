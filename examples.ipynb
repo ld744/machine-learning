{
 "cells": [
  {
   "cell_type": "markdown",
   "metadata": {},
   "source": [
    "# 引用包管理"
   ]
  },
  {
   "cell_type": "code",
   "execution_count": null,
   "metadata": {},
   "outputs": [],
   "source": [
    "import numpy as np\n",
    "import pandas as pd\n",
    "import matplotlib.pyplot as plt\n",
    "import seaborn as sns\n",
    "\n",
    "#解决绘图中文乱码问题\n",
    "plt.rcParams['font.sans-serif']=['SimHei']\n",
    "plt.rcParams['axes.unicode_minus'] = False\n",
    "\n",
    "#解决warning问题\n",
    "import warnings\n",
    "warnings.filterwarnings('ignore')\n",
    "\n",
    "#统计\n",
    "from scipy import stats\n",
    "\n"
   ]
  },
  {
   "cell_type": "markdown",
   "metadata": {},
   "source": [
    "# 导入文件/导出文件"
   ]
  },
  {
   "cell_type": "code",
   "execution_count": null,
   "metadata": {
    "collapsed": true
   },
   "outputs": [],
   "source": [
    "# CSV\n",
    "data = pd.read_csv('D:/code/？',engine='python')\n",
    "# excel\n",
    "house= pd.read_excel('D:/code/？',type='object')\n",
    "#txt\n",
    "file= pd.read_csv('被动打招呼.txt',sep='\\t',engine='python',encoding='utf-8',header=None)\n",
    "\n",
    "#保存\n",
    "\n",
    "pd.to_excel(filePath, encoding='utf-8', index=False)\n",
    "data.to_csv('./test_pred.csv', index=False)\n",
    "\n",
    "writer = pd.ExcelWriter('./res.xlsx')\n",
    "res_s.to_excel(writer,sheet_name= 'sheet1')\n",
    "res_s.to_excel(writer,sheet_name= 'sheet2')\n",
    "writer.save()"
   ]
  },
  {
   "cell_type": "markdown",
   "metadata": {},
   "source": [
    "# 空值处理"
   ]
  },
  {
   "cell_type": "code",
   "execution_count": null,
   "metadata": {},
   "outputs": [],
   "source": [
    "#函数插值\n",
    "from sklearn.preprocessing import Imputer\n",
    "imputer = Imputer(missing_values = \"NaN\", strategy = \"mean\", axis = 0)   #插值器创建： mean 均值；median 中位数；most_frequent 众数\n",
    "imputer = imputer.fit(X[ : , 1:3])                                       #插值实例创建：\n",
    "X[ : , 1:3] = imputer.transform(X[ : , 1:3])                             #插值应用：\n",
    "\n",
    "#手动更改\n",
    "DataFrame.fillna(DataFrame.mean())             #定值插入\n",
    "DataFrame.dropna(axis = 0,how='any')           #any，存在NA就删除；all，全部为NA才删除\n"
   ]
  },
  {
   "cell_type": "markdown",
   "metadata": {},
   "source": [
    "# 编码"
   ]
  },
  {
   "cell_type": "code",
   "execution_count": null,
   "metadata": {},
   "outputs": [],
   "source": [
    "#函数编码\n",
    "from sklearn.preprocessing import LabelEncoder, OneHotEncoder\n",
    "labelencoder_X = LabelEncoder()\n",
    "X[ :] = labelencoder_X.fit_transform(X[ :])    #离散字符变量编码，比如将 男，女 编码为0，1\n",
    "\n",
    "onehotencoder = OneHotEncoder(categorical_features = [0],sparse = False)   #选择需要编码的特征，\n",
    "X = onehotencoder.fit_transform(X)                    #数字变量oneHot编码\n",
    "\n",
    "\n",
    "#手动编码\n",
    "nameDF=pd.get_dummies(DF[],prefix='name')            #one-hot编码,prefix编码后列名前缀\n",
    "DF=pd.concat([DF,nameDF],axis=1)                     #连接\n",
    "full.drop('Embarked',axis=1,inplace=True)           #删除原始数据"
   ]
  },
  {
   "cell_type": "markdown",
   "metadata": {},
   "source": [
    "# 常用函数"
   ]
  },
  {
   "cell_type": "code",
   "execution_count": null,
   "metadata": {},
   "outputs": [],
   "source": [
    "#map函数\n",
    "house['总价']=house['总价'].map(lambda c:c.split('万')[0])\n",
    "#sort_values函数\n",
    "DataFrame.sort_values(by, axis=0, ascending=True)   #by接列名或行号，0为列，True为升序\n"
   ]
  },
  {
   "cell_type": "markdown",
   "metadata": {},
   "source": [
    "# 建模"
   ]
  },
  {
   "cell_type": "code",
   "execution_count": null,
   "metadata": {},
   "outputs": [],
   "source": [
    "#数据分离\n",
    "from sklearn.cross_validation import train_test_split\n",
    "X_train, X_test, Y_train, Y_test = train_test_split( X , Y , test_size = 0.2, random_state = 0)\n",
    "\n",
    "#数据缩放\n",
    "##基于树的方法不必进行特征的归一化，例如随机森林，bagging 和 boosting等。基于参数的模型或基于距离的模型，需要进行特征的归一化\n",
    "#Z变换\n",
    "from sklearn.preprocessing import StandardScaler\n",
    "sc_X = StandardScaler()\n",
    "X_train = sc_X.fit_transform(X_train)\n",
    "X_test = sc_X.fit_transform(X_test)\n",
    "#0-1分布\n",
    "from sklearn.preprocessing import MinMaxScaler\n",
    "sc_X = MinMaxScaler()\n",
    "\n",
    "\n",
    "#线性回归 （多变量注意虚拟变量陷阱，特征-1）\n",
    "from sklearn.linear_model import LinearRegression\n",
    "model=LinearRegression()\n",
    "model.fit(X,Y)\n",
    "model.predict(X)\n",
    "\n",
    "#逻辑回归\n",
    "from sklearn.linear_model import LogisticRegression\n",
    "model=LogisticRegression()\n",
    "\n",
    "#KNN-K近邻\n",
    "from sklearn.neighbors import KNeighborsClassifier\n",
    "model=KNeighborsClassifier(n_neighbors='5')  #近邻\n",
    "\n",
    "#K-means聚类\n",
    "from sklearn.cluster import KMeans\n",
    "model=KMeans(n_clusters='5')\n",
    "\n",
    "#SVM\n",
    "from sklearn.svm import SVC\n",
    "model = SVC(kernel = 'linear', random_state = 0)   #‘linear’, ‘poly’, ‘rbf’, ‘sigmoid’, ‘precomputed’ or a callable\n",
    "\n",
    "#Decision tree\n",
    "from sklearn.tree import DecisionTreeClassifier\n",
    "model=DecisionTreeClassifier(criterion = 'entropy', random_state = 0)\n",
    "\n",
    "#navie_bayes\n",
    "from sklearn.naive_bayes import GaussianNB\n",
    "model = GaussianNB()   #MultinomialNB   BernoulliNB\n",
    "\n",
    "\n",
    "\n",
    "#ensemble\n",
    "from sklearn.ensemble import BaggingClassifier\n",
    "from sklearn.neighbors import KNeighborsClassifier\n",
    "bagging = BaggingClassifier(KNeighborsClassifier(),max_samples=0.5, max_features=0.5)\n",
    "\n",
    "#RandomForest\n",
    "from sklearn.ensemble import RandomForestClassifier\n",
    "model = RandomForestClassifier(n_estimators = 10, criterion = 'entropy', random_state = 0)\n",
    "\n",
    "#GradientBoosting\n",
    "from sklearn.ensemble import GradientBoostingClassifier\n"
   ]
  },
  {
   "cell_type": "markdown",
   "metadata": {},
   "source": [
    "# 绘图 plt"
   ]
  },
  {
   "cell_type": "code",
   "execution_count": null,
   "metadata": {},
   "outputs": [],
   "source": [
    "import matplotlib.pyplot as plt\n",
    "import seaborn as sns\n",
    "\n",
    "#画幅设置\n",
    "plt.figure(figsize=(5,5))\n",
    "plt.subplot(2,2,1)\n",
    "\n",
    "#标题\n",
    "plt.title('**率',fontproperties='SimHei',fontsize=19)\n",
    "\n",
    "#设置坐标轴\n",
    "plt.xlim((-1,2))\n",
    "new_ticks=np.linspace(-1,2,5)\n",
    "plt.xticks(new_ticks)   #刻度\n",
    "plt.yticks([-2,-1.8,-1,1.22,3.0])\n",
    "plt.xlabel(u'价格',fontproperties='SimHei') \n",
    "\n",
    "#图例\n",
    "plt.legend(loc='lower right',labels=['直线','曲线'])\n",
    "\n",
    "#注解\n",
    "plt.text(-2,0,'这是备注',fontproperties='SimHei',fontsize=8)\n",
    "\n",
    "#绘图\n",
    "plt.plot(x,y1,color='blue',linewidth=1.5,linestyle='-',marker='.')  #折线\n",
    "plt.hist      #直方\n",
    "plt.scatter   #散点\n",
    "plt.boxplot   #箱线\n",
    "plt.pie       #饼图\n",
    "\n",
    "sns.distplot(y,hist=True,kde=True)  #直方 及 密度\n",
    "sns.heatmap(corrmat, square=True, linewidths=.5, annot=True)  #热力图\n",
    "\n",
    "#绘图\n",
    "plt.show()\n",
    "#保存\n",
    "savefig('../name.png',dpi=48)"
   ]
  }
 ],
 "metadata": {
  "kernelspec": {
   "display_name": "Python [conda env:Anaconda3]",
   "language": "python",
   "name": "conda-env-Anaconda3-py"
  },
  "language_info": {
   "codemirror_mode": {
    "name": "ipython",
    "version": 3
   },
   "file_extension": ".py",
   "mimetype": "text/x-python",
   "name": "python",
   "nbconvert_exporter": "python",
   "pygments_lexer": "ipython3",
   "version": "3.7.0"
  }
 },
 "nbformat": 4,
 "nbformat_minor": 2
}
