{
 "cells": [
  {
   "cell_type": "markdown",
   "metadata": {},
   "source": [
    "# Model\n",
    "## 1、linear_model"
   ]
  },
  {
   "cell_type": "code",
   "execution_count": 4,
   "metadata": {},
   "outputs": [],
   "source": [
    "#数据集\n",
    "from sklearn.datasets import load_iris\n",
    "import warnings\n",
    "warnings.filterwarnings('ignore')\n",
    "iris = load_iris()\n",
    "x=iris.data\n",
    "y=iris.target"
   ]
  },
  {
   "cell_type": "code",
   "execution_count": 58,
   "metadata": {},
   "outputs": [
    {
     "data": {
      "text/plain": [
       "0.9304223675331597"
      ]
     },
     "execution_count": 58,
     "metadata": {},
     "output_type": "execute_result"
    }
   ],
   "source": [
    "#线性回归\n",
    "from sklearn.linear_model import LinearRegression\n",
    "model=LinearRegression()\n",
    "model.fit(x,y)\n",
    "model.get_params()   #获取参数值\n",
    "[model.coef_,model.intercept_]\n",
    "model.predict(x)\n",
    "model.score(x,y)   #R^2值\n"
   ]
  },
  {
   "cell_type": "code",
   "execution_count": 60,
   "metadata": {},
   "outputs": [
    {
     "data": {
      "text/plain": [
       "0.9303309487353283"
      ]
     },
     "execution_count": 60,
     "metadata": {},
     "output_type": "execute_result"
    }
   ],
   "source": [
    "#岭回归---L2正则化\n",
    "from sklearn.linear_model import RidgeCV\n",
    "model=RidgeCV(alphas=[0.1,0.5,1])\n",
    "model.fit(x,y)\n",
    "[model.alpha_,model.coef_,model.intercept_]\n",
    "model.predict(x)\n",
    "model.score(x,y)   #R^2值\n"
   ]
  },
  {
   "cell_type": "code",
   "execution_count": 19,
   "metadata": {},
   "outputs": [
    {
     "data": {
      "text/plain": [
       "0.9303676177484362"
      ]
     },
     "execution_count": 19,
     "metadata": {},
     "output_type": "execute_result"
    }
   ],
   "source": [
    "#Lasso回归---L1正则化，高维特征，线性稀疏\n",
    "from sklearn.linear_model import LassoCV,lasso_path\n",
    "\n",
    "model=LassoCV(cv=5)\n",
    "model.fit(x,y)\n",
    "[model.alpha_,model.coef_,model.intercept_]\n",
    "model.predict(x)\n",
    "model.score(x,y)   #R^2值\n",
    "\n",
    "#lasso_path\n",
    "#alpha_,coef_,_=lasso_path(x,y,alphas=[0.001,0.01,0.1])\n",
    "#[alpha_,coef_]"
   ]
  },
  {
   "cell_type": "code",
   "execution_count": 62,
   "metadata": {},
   "outputs": [
    {
     "data": {
      "text/plain": [
       "0.9666666666666667"
      ]
     },
     "execution_count": 62,
     "metadata": {},
     "output_type": "execute_result"
    }
   ],
   "source": [
    "#逻辑回归\n",
    "from sklearn.linear_model import LogisticRegression  #还有LogisticRegressionCV\n",
    "model=LogisticRegression(solver='saga')  #默认参数不如saga\n",
    "model.fit(x,y)\n",
    "model.predict(x)\n",
    "model.score(x,y)   #mean accuracy\n"
   ]
  },
  {
   "cell_type": "code",
   "execution_count": 66,
   "metadata": {},
   "outputs": [
    {
     "data": {
      "text/plain": [
       "0.9933333333333333"
      ]
     },
     "execution_count": 66,
     "metadata": {},
     "output_type": "execute_result"
    }
   ],
   "source": [
    "#多项式回归---等价于特征处理\n",
    "from sklearn.preprocessing import  PolynomialFeatures  \n",
    "x=iris.data\n",
    "y=iris.target\n",
    "\n",
    "#特征处理\n",
    "poly=PolynomialFeatures(degree=4)\n",
    "x=poly.fit_transform(x)\n",
    "\n",
    "#选择模型\n",
    "model=LogisticRegression()\n",
    "model.fit(x,y)\n",
    "model.predict(x)\n",
    "model.score(x,y)\n"
   ]
  },
  {
   "cell_type": "markdown",
   "metadata": {},
   "source": [
    "## 2、SVM"
   ]
  },
  {
   "cell_type": "code",
   "execution_count": 2,
   "metadata": {},
   "outputs": [
    {
     "data": {
      "text/plain": [
       "0.9866666666666667"
      ]
     },
     "execution_count": 2,
     "metadata": {},
     "output_type": "execute_result"
    }
   ],
   "source": [
    "#分类 svm.SVC  回归问题 svm.SVR   线性核时 svm.LinearSVC更高效\n",
    "from sklearn import svm\n",
    "x=iris.data\n",
    "y=iris.target\n",
    "\n",
    "svc=svm.SVC()      #kernel='rbf'高斯,'linear'线性,'poly'多项式,'sigmoid'\n",
    "svc.fit(x,y)\n",
    "svc.predict(x)\n",
    "svc.score(x,y)     #mean accuracy\n",
    "#svc.decision_function([[5.1, 3.5, 1.4, 0.2]])  #判断实例到分类超平面的距离，据此划分阈值分类\n",
    "#svc.support_            #支持向量的索引\n",
    "#svc.support_vectors_    #支持向量"
   ]
  },
  {
   "cell_type": "markdown",
   "metadata": {},
   "source": [
    "## 3、SGD\n",
    "### 适合处理大规模和稀疏数据"
   ]
  },
  {
   "cell_type": "code",
   "execution_count": 12,
   "metadata": {},
   "outputs": [
    {
     "data": {
      "text/plain": [
       "0.8866666666666667"
      ]
     },
     "execution_count": 12,
     "metadata": {},
     "output_type": "execute_result"
    }
   ],
   "source": [
    "#随机梯度下降  ---使用时需要数据正则化\n",
    "from sklearn.linear_model import SGDClassifier,SGDRegressor\n",
    "model=SGDClassifier(loss='hinge')    # hinge:linear_svm  ; log: logistic    #squared_loss for SGDRegressor\n",
    "\n",
    "from sklearn.preprocessing import MinMaxScaler\n",
    "x = MinMaxScaler().fit_transform(x)\n",
    "\n",
    "model.fit(x,y)\n",
    "model.predict(x)\n",
    "model.score(x,y)   #mean accuracy          # R^2 for SGDRegressor"
   ]
  },
  {
   "cell_type": "markdown",
   "metadata": {},
   "source": [
    "# 4、Naive Bayes"
   ]
  },
  {
   "cell_type": "code",
   "execution_count": 26,
   "metadata": {},
   "outputs": [
    {
     "data": {
      "text/plain": [
       "0.96"
      ]
     },
     "execution_count": 26,
     "metadata": {},
     "output_type": "execute_result"
    }
   ],
   "source": [
    "from sklearn.naive_bayes import GaussianNB,MultinomialNB\n",
    "\n",
    "model=GaussianNB()     #model=MultinomialNB(alpha=1)\n",
    "model.fit(x,y)\n",
    "model.predict(x)\n",
    "model.score(x,y)   #mean accuracy "
   ]
  },
  {
   "cell_type": "markdown",
   "metadata": {},
   "source": [
    "# 5、Decision Tree"
   ]
  },
  {
   "cell_type": "code",
   "execution_count": 32,
   "metadata": {},
   "outputs": [
    {
     "data": {
      "text/plain": [
       "0.9933333333333333"
      ]
     },
     "execution_count": 32,
     "metadata": {},
     "output_type": "execute_result"
    }
   ],
   "source": [
    "from sklearn.tree import DecisionTreeClassifier,DecisionTreeRegressor\n",
    "\n",
    "x=iris.data\n",
    "y=iris.target\n",
    "\n",
    "model=DecisionTreeClassifier(max_depth=4,min_samples_split=2,min_samples_leaf=1)    #max_depth,树的深度；min_samples_split，最小可分列样本数；\n",
    "                                                                                    #min_samples_leaf，最小叶节点样本数\n",
    "model.fit(x,y)\n",
    "model.predict(x)\n",
    "\n",
    "#model.apply(x)   #返回数据所在的子数\n",
    "#model.feature_importances_   #返回特征的重要度\n",
    "model.score(x,y)   #R^2\n"
   ]
  },
  {
   "cell_type": "code",
   "execution_count": 30,
   "metadata": {},
   "outputs": [],
   "source": [
    "#导出决策树\n",
    "\n",
    "from sklearn.tree import export_graphviz\n",
    "#import graphviz \n",
    "\n",
    "dot_data = export_graphviz(model, out_file=None,feature_names=iris.feature_names, class_names=iris.target_names) \n",
    "#graph = graphviz.Source(dot_data) \n",
    "#graph.render(\"iris\") "
   ]
  },
  {
   "cell_type": "markdown",
   "metadata": {},
   "source": [
    "# 6、Neighbors"
   ]
  },
  {
   "cell_type": "code",
   "execution_count": 75,
   "metadata": {},
   "outputs": [
    {
     "data": {
      "text/plain": [
       "0.9666666666666667"
      ]
     },
     "execution_count": 75,
     "metadata": {},
     "output_type": "execute_result"
    }
   ],
   "source": [
    "from sklearn.neighbors import KNeighborsClassifier,KNeighborsRegressor \n",
    "\n",
    "model=KNeighborsClassifier(n_neighbors=5)    \n",
    "model.fit(x,y)\n",
    "model.predict(x)\n",
    "model.score(x,y)  #mean accuracy    # R^2 for Regressor"
   ]
  },
  {
   "cell_type": "code",
   "execution_count": 84,
   "metadata": {},
   "outputs": [
    {
     "data": {
      "text/plain": [
       "(array([[0.        , 0.1       , 0.14142136, 0.14142136, 0.14142136]]),\n",
       " array([[ 0, 17,  4, 39, 27]], dtype=int64))"
      ]
     },
     "execution_count": 84,
     "metadata": {},
     "output_type": "execute_result"
    }
   ],
   "source": [
    "from sklearn.neighbors import NearestNeighbors\n",
    "model=NearestNeighbors(n_neighbors=5, radius=1)     \n",
    "model.fit(x)\n",
    "model.kneighbors([[5.1, 3.5, 1.4, 0.2]],n_neighbors=5)         #最近邻距离和索引"
   ]
  },
  {
   "cell_type": "markdown",
   "metadata": {},
   "source": [
    "# 7、Cluster"
   ]
  },
  {
   "cell_type": "code",
   "execution_count": 99,
   "metadata": {},
   "outputs": [
    {
     "data": {
      "text/plain": [
       "-78.94084142614594"
      ]
     },
     "execution_count": 99,
     "metadata": {},
     "output_type": "execute_result"
    }
   ],
   "source": [
    "from sklearn.cluster import KMeans ,MiniBatchKMeans    #数据量很大时用后者近似优化\n",
    "model=KMeans(n_clusters=3, n_init=10)       #n_clusters 分类数目；n_init 迭代次数\n",
    "#model.kneighbors([[5.1, 3.5, 1.4, 0.2]],n_neighbors=5) \n",
    "model.fit_predict(x)     #分类\n",
    "model.cluster_centers_   #类中心\n",
    "#model.fit_transform(x)   #各样本距类中心的距离\n",
    "model.score(x,y)"
   ]
  },
  {
   "cell_type": "markdown",
   "metadata": {},
   "source": [
    "# 8、Ensemble"
   ]
  },
  {
   "cell_type": "code",
   "execution_count": 93,
   "metadata": {},
   "outputs": [
    {
     "data": {
      "text/plain": [
       "1.0"
      ]
     },
     "execution_count": 93,
     "metadata": {},
     "output_type": "execute_result"
    }
   ],
   "source": [
    "#RandomForest\n",
    "from sklearn.ensemble import RandomForestClassifier,RandomForestRegressor\n",
    "model=RandomForestClassifier(n_estimators=10, max_depth=None,min_samples_split=2,max_leaf_nodes=None) #max_leaf_nodes,最大叶节点数量，为max_depth+1\n",
    "model.fit(x,y)\n",
    "model.predict(x)\n",
    "model.score(x,y)   #mean accuracy    # R^2 for Regressor\n",
    "#model.feature_importances_   #返回特征的重要度"
   ]
  },
  {
   "cell_type": "code",
   "execution_count": null,
   "metadata": {},
   "outputs": [],
   "source": [
    "#XGBOOST\n"
   ]
  }
 ],
 "metadata": {
  "kernelspec": {
   "display_name": "Python 3",
   "language": "python",
   "name": "python3"
  },
  "language_info": {
   "codemirror_mode": {
    "name": "ipython",
    "version": 3
   },
   "file_extension": ".py",
   "mimetype": "text/x-python",
   "name": "python",
   "nbconvert_exporter": "python",
   "pygments_lexer": "ipython3",
   "version": "3.6.6"
  }
 },
 "nbformat": 4,
 "nbformat_minor": 2
}
