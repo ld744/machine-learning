{
 "cells": [
  {
   "cell_type": "markdown",
   "metadata": {},
   "source": [
    "# Model\n",
    "## 1、linear_model"
   ]
  },
  {
   "cell_type": "code",
   "execution_count": null,
   "metadata": {},
   "outputs": [],
   "source": [
    "#数据集\n",
    "from sklearn.datasets import load_iris\n",
    "import warnings\n",
    "warnings.filterwarnings('ignore')\n",
    "iris = load_iris()\n",
    "x=iris.data\n",
    "y=iris.target"
   ]
  },
  {
   "cell_type": "code",
   "execution_count": null,
   "metadata": {},
   "outputs": [],
   "source": [
    "#线性回归\n",
    "from sklearn.linear_model import LinearRegression\n",
    "model=LinearRegression()\n",
    "model.fit(x,y)\n",
    "model.get_params()   #获取参数值\n",
    "[model.coef_,model.intercept_]\n",
    "model.predict(x)\n",
    "model.score(x,y)   #R^2值\n"
   ]
  },
  {
   "cell_type": "code",
   "execution_count": null,
   "metadata": {},
   "outputs": [],
   "source": [
    "#岭回归---L2正则化\n",
    "from sklearn.linear_model import RidgeCV\n",
    "model=RidgeCV(alphas=[0.1,0.5,1])\n",
    "model.fit(x,y)\n",
    "[model.alpha_,model.coef_,model.intercept_]\n",
    "model.predict(x)\n",
    "model.score(x,y)   #R^2值\n"
   ]
  },
  {
   "cell_type": "code",
   "execution_count": null,
   "metadata": {},
   "outputs": [],
   "source": [
    "#Lasso回归---L1正则化，高维特征，线性稀疏\n",
    "from sklearn.linear_model import LassoCV,lasso_path\n",
    "\n",
    "model=LassoCV(cv=5)\n",
    "model.fit(x,y)\n",
    "[model.alpha_,model.coef_,model.intercept_]\n",
    "model.predict(x)\n",
    "model.score(x,y)   #R^2值\n",
    "\n",
    "#lasso_path\n",
    "#alpha_,coef_,_=lasso_path(x,y,alphas=[0.001,0.01,0.1])\n",
    "#[alpha_,coef_]"
   ]
  },
  {
   "cell_type": "code",
   "execution_count": null,
   "metadata": {},
   "outputs": [],
   "source": [
    "#逻辑回归\n",
    "from sklearn.linear_model import LogisticRegression  #还有LogisticRegressionCV\n",
    "model=LogisticRegression(solver='saga')  #默认参数不如saga\n",
    "model.fit(x,y)\n",
    "model.predict(x)\n",
    "model.score(x,y)   #mean accuracy\n"
   ]
  },
  {
   "cell_type": "code",
   "execution_count": null,
   "metadata": {},
   "outputs": [],
   "source": [
    "#多项式回归---等价于特征处理\n",
    "from sklearn.preprocessing import  PolynomialFeatures  \n",
    "x=iris.data\n",
    "y=iris.target\n",
    "\n",
    "#特征处理\n",
    "poly=PolynomialFeatures(degree=4)\n",
    "x=poly.fit_transform(x)\n",
    "\n",
    "#选择模型\n",
    "model=LogisticRegression()\n",
    "model.fit(x,y)\n",
    "model.predict(x)\n",
    "model.score(x,y)\n"
   ]
  },
  {
   "cell_type": "markdown",
   "metadata": {},
   "source": [
    "## 2、SVM"
   ]
  },
  {
   "cell_type": "code",
   "execution_count": null,
   "metadata": {},
   "outputs": [],
   "source": [
    "#分类 svm.SVC  回归问题 svm.SVR   线性核时 svm.LinearSVC更高效\n",
    "from sklearn import svm\n",
    "x=iris.data\n",
    "y=iris.target\n",
    "\n",
    "svc=svm.SVC()      #kernel='rbf'高斯,'linear'线性,'poly'多项式,'sigmoid'\n",
    "svc.fit(x,y)\n",
    "svc.predict(x)\n",
    "svc.score(x,y)     #mean accuracy\n",
    "#svc.decision_function([[5.1, 3.5, 1.4, 0.2]])  #判断实例到分类超平面的距离，据此划分阈值分类\n",
    "#svc.support_            #支持向量的索引\n",
    "#svc.support_vectors_    #支持向量"
   ]
  },
  {
   "cell_type": "markdown",
   "metadata": {},
   "source": [
    "## 3、SGD\n",
    "### 适合处理大规模和稀疏数据"
   ]
  },
  {
   "cell_type": "code",
   "execution_count": null,
   "metadata": {},
   "outputs": [],
   "source": [
    "#随机梯度下降  ---使用时需要数据正则化\n",
    "from sklearn.linear_model import SGDClassifier,SGDRegressor\n",
    "model=SGDClassifier(loss='hinge')    # hinge:linear_svm  ; log: logistic    #squared_loss for SGDRegressor\n",
    "\n",
    "from sklearn.preprocessing import MinMaxScaler\n",
    "x = MinMaxScaler().fit_transform(x)\n",
    "\n",
    "model.fit(x,y)\n",
    "model.predict(x)\n",
    "model.score(x,y)   #mean accuracy          # R^2 for SGDRegressor"
   ]
  },
  {
   "cell_type": "markdown",
   "metadata": {},
   "source": [
    "# 4、Naive Bayes"
   ]
  },
  {
   "cell_type": "code",
   "execution_count": null,
   "metadata": {},
   "outputs": [],
   "source": [
    "from sklearn.naive_bayes import GaussianNB,MultinomialNB\n",
    "\n",
    "model=GaussianNB()     #model=MultinomialNB(alpha=1)\n",
    "model.fit(x,y)\n",
    "model.predict(x)\n",
    "model.score(x,y)   #mean accuracy "
   ]
  },
  {
   "cell_type": "markdown",
   "metadata": {},
   "source": [
    "# 5、Decision Tree"
   ]
  },
  {
   "cell_type": "code",
   "execution_count": null,
   "metadata": {},
   "outputs": [],
   "source": [
    "from sklearn.tree import DecisionTreeClassifier,DecisionTreeRegressor\n",
    "\n",
    "x=iris.data\n",
    "y=iris.target\n",
    "\n",
    "model=DecisionTreeClassifier(max_depth=4,min_samples_split=2,min_samples_leaf=1)    #max_depth,树的深度；min_samples_split，最小可分列样本数；\n",
    "                                                                                    #min_samples_leaf，最小叶节点样本数\n",
    "model.fit(x,y)\n",
    "model.predict(x)\n",
    "\n",
    "#model.apply(x)   #返回数据所在的子数\n",
    "#model.feature_importances_   #返回特征的重要度\n",
    "model.score(x,y)   #R^2\n"
   ]
  },
  {
   "cell_type": "code",
   "execution_count": null,
   "metadata": {},
   "outputs": [],
   "source": [
    "#导出决策树 --导出为png格式 默认是pdf\n",
    "\n",
    "from sklearn.tree import export_graphviz\n",
    "import graphviz \n",
    "\n",
    "dot_data = export_graphviz(model, out_file=None,feature_names=iris.feature_names, class_names=iris.target_names) \n",
    "graph = graphviz.Source(dot_data) \n",
    "graph.format='png'\n",
    "graph.render('iris') \n"
   ]
  },
  {
   "cell_type": "markdown",
   "metadata": {},
   "source": [
    "# 6、Neighbors"
   ]
  },
  {
   "cell_type": "code",
   "execution_count": null,
   "metadata": {},
   "outputs": [],
   "source": [
    "from sklearn.neighbors import KNeighborsClassifier,KNeighborsRegressor \n",
    "\n",
    "model=KNeighborsClassifier(n_neighbors=5)    \n",
    "model.fit(x,y)\n",
    "model.predict(x)\n",
    "model.score(x,y)  #mean accuracy    # R^2 for Regressor"
   ]
  },
  {
   "cell_type": "code",
   "execution_count": null,
   "metadata": {},
   "outputs": [],
   "source": [
    "from sklearn.neighbors import NearestNeighbors\n",
    "model=NearestNeighbors(n_neighbors=5, radius=1)     \n",
    "model.fit(x)\n",
    "model.kneighbors([[5.1, 3.5, 1.4, 0.2]],n_neighbors=5)         #最近邻距离和索引"
   ]
  },
  {
   "cell_type": "markdown",
   "metadata": {},
   "source": [
    "# 7、Cluster"
   ]
  },
  {
   "cell_type": "code",
   "execution_count": null,
   "metadata": {},
   "outputs": [],
   "source": [
    "from sklearn.cluster import KMeans ,MiniBatchKMeans    #数据量很大时用后者近似优化\n",
    "model=KMeans(n_clusters=3, n_init=10)       #n_clusters 分类数目；n_init 迭代次数\n",
    "#model.kneighbors([[5.1, 3.5, 1.4, 0.2]],n_neighbors=5) \n",
    "model.fit_predict(x)     #分类\n",
    "model.cluster_centers_   #类中心\n",
    "#model.fit_transform(x)   #各样本距类中心的距离\n",
    "model.score(x,y)"
   ]
  },
  {
   "cell_type": "markdown",
   "metadata": {},
   "source": [
    "# 8、Ensemble"
   ]
  },
  {
   "cell_type": "code",
   "execution_count": null,
   "metadata": {},
   "outputs": [],
   "source": [
    "#RandomForest\n",
    "from sklearn.ensemble import RandomForestClassifier,RandomForestRegressor\n",
    "model=RandomForestClassifier(n_estimators=10, max_depth=None,min_samples_split=2,max_leaf_nodes=None) #max_leaf_nodes,最大叶节点数量，为max_depth+1\n",
    "model.fit(x,y)\n",
    "model.predict(x)\n",
    "model.score(x,y)   #mean accuracy    # R^2 for Regressor\n",
    "#model.feature_importances_   #返回特征的重要度"
   ]
  },
  {
   "cell_type": "code",
   "execution_count": null,
   "metadata": {},
   "outputs": [],
   "source": [
    "#XGBOOST\n",
    "import xgboost as xgb\n",
    "from matplotlib import pyplot as plt\n",
    "\n",
    "model = xgb.XGBRegressor(max_depth = 4,learning_rate = 0.1,n_estimators = 10 ,objective ='reg:linear',booster='gbtree')\n",
    "# 'reg:linear'   'reg:gamma'              'gblinear'\n",
    "model.fit(x,y)\n",
    "model.predict(x)\n",
    "model.score(x,y)\n"
   ]
  },
  {
   "cell_type": "code",
   "execution_count": null,
   "metadata": {},
   "outputs": [],
   "source": [
    "import xgboost as xgb\n",
    "from matplotlib import pyplot as plt\n",
    "\n",
    "model = xgb.XGBClassifier(max_depth = 3,learning_rate = 0.1,n_estimators = 5,objective = 'multi:softmax',booster='gbtree')\n",
    "# 'binary:logistic'--二分类     binary:hinge--二分类   'gblinear'  'multi:softmax'\n",
    "model.fit(x,y)\n",
    "model.predict(x)\n",
    "model.score(x,y)\n",
    "\n",
    "#xgb.plot_importance(model)\n",
    "#plt.show()"
   ]
  },
  {
   "cell_type": "code",
   "execution_count": null,
   "metadata": {},
   "outputs": [],
   "source": [
    "#导出树   --导出为png格式 默认是pdf\n",
    "dot_data = xgb.to_graphviz(model, num_trees=2) \n",
    "graph = graphviz.Source(dot_data)\n",
    "graph.format='png'\n",
    "graph.render('iris') "
   ]
  }
 ],
 "metadata": {
  "kernelspec": {
   "display_name": "Python [default]",
   "language": "python",
   "name": "python3"
  },
  "language_info": {
   "codemirror_mode": {
    "name": "ipython",
    "version": 3
   },
   "file_extension": ".py",
   "mimetype": "text/x-python",
   "name": "python",
   "nbconvert_exporter": "python",
   "pygments_lexer": "ipython3",
   "version": "3.7.0"
  }
 },
 "nbformat": 4,
 "nbformat_minor": 2
}
