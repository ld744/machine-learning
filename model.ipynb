{
 "cells": [
  {
   "cell_type": "markdown",
   "metadata": {},
   "source": [
    "# Model\n",
    "## 1、linear_model"
   ]
  },
  {
   "cell_type": "code",
   "execution_count": 5,
   "metadata": {},
   "outputs": [],
   "source": [
    "#数据集\n",
    "from sklearn.datasets import load_iris\n",
    "import warnings\n",
    "warnings.filterwarnings('ignore')\n",
    "iris = load_iris()\n",
    "x=iris.data\n",
    "y=iris.target"
   ]
  },
  {
   "cell_type": "code",
   "execution_count": 58,
   "metadata": {},
   "outputs": [
    {
     "data": {
      "text/plain": [
       "0.9304223675331597"
      ]
     },
     "execution_count": 58,
     "metadata": {},
     "output_type": "execute_result"
    }
   ],
   "source": [
    "#线性回归\n",
    "from sklearn.linear_model import LinearRegression\n",
    "model=LinearRegression()\n",
    "model.fit(x,y)\n",
    "model.get_params()   #获取参数值\n",
    "[model.coef_,model.intercept_]\n",
    "model.predict(x)\n",
    "model.score(x,y)   #R^2值\n"
   ]
  },
  {
   "cell_type": "code",
   "execution_count": 60,
   "metadata": {},
   "outputs": [
    {
     "data": {
      "text/plain": [
       "0.9303309487353283"
      ]
     },
     "execution_count": 60,
     "metadata": {},
     "output_type": "execute_result"
    }
   ],
   "source": [
    "#岭回归---L2正则化\n",
    "from sklearn.linear_model import RidgeCV\n",
    "model=RidgeCV(alphas=[0.1,0.5,1])\n",
    "model.fit(x,y)\n",
    "[model.alpha_,model.coef_,model.intercept_]\n",
    "model.predict(x)\n",
    "model.score(x,y)   #R^2值\n"
   ]
  },
  {
   "cell_type": "code",
   "execution_count": 19,
   "metadata": {},
   "outputs": [
    {
     "data": {
      "text/plain": [
       "0.9303676177484362"
      ]
     },
     "execution_count": 19,
     "metadata": {},
     "output_type": "execute_result"
    }
   ],
   "source": [
    "#Lasso回归---L1正则化，高维特征，线性稀疏\n",
    "from sklearn.linear_model import LassoCV,lasso_path\n",
    "\n",
    "model=LassoCV(cv=5)\n",
    "model.fit(x,y)\n",
    "[model.alpha_,model.coef_,model.intercept_]\n",
    "model.predict(x)\n",
    "model.score(x,y)   #R^2值\n",
    "\n",
    "#lasso_path\n",
    "#alpha_,coef_,_=lasso_path(x,y,alphas=[0.001,0.01,0.1])\n",
    "#[alpha_,coef_]"
   ]
  },
  {
   "cell_type": "code",
   "execution_count": 62,
   "metadata": {},
   "outputs": [
    {
     "data": {
      "text/plain": [
       "0.9666666666666667"
      ]
     },
     "execution_count": 62,
     "metadata": {},
     "output_type": "execute_result"
    }
   ],
   "source": [
    "#逻辑回归\n",
    "from sklearn.linear_model import LogisticRegression  #还有LogisticRegressionCV\n",
    "model=LogisticRegression(solver='saga')  #默认参数不如saga\n",
    "model.fit(x,y)\n",
    "model.predict(x)\n",
    "model.score(x,y)   #mean accuracy\n"
   ]
  },
  {
   "cell_type": "code",
   "execution_count": 64,
   "metadata": {},
   "outputs": [
    {
     "data": {
      "text/plain": [
       "0.8333333333333334"
      ]
     },
     "execution_count": 64,
     "metadata": {},
     "output_type": "execute_result"
    }
   ],
   "source": [
    "#随机梯度下降  ---使用时需要数据正则化\n",
    "from sklearn.linear_model import SGDClassifier,SGDRegressor\n",
    "model=SGDClassifier(loss='hinge')    # hinge:linear_svm  ; log: logistic\n",
    "\n",
    "from sklearn.preprocessing import MinMaxScaler\n",
    "x = MinMaxScaler().fit_transform(x)\n",
    "\n",
    "model.fit(x,y)\n",
    "model.predict(x)\n",
    "model.score(x,y)   #mean accuracy\n"
   ]
  },
  {
   "cell_type": "code",
   "execution_count": 66,
   "metadata": {},
   "outputs": [
    {
     "data": {
      "text/plain": [
       "0.9933333333333333"
      ]
     },
     "execution_count": 66,
     "metadata": {},
     "output_type": "execute_result"
    }
   ],
   "source": [
    "#多项式回归---等价于特征处理\n",
    "from sklearn.preprocessing import  PolynomialFeatures  \n",
    "x=iris.data\n",
    "y=iris.target\n",
    "\n",
    "#特征处理\n",
    "poly=PolynomialFeatures(degree=4)\n",
    "x=poly.fit_transform(x)\n",
    "\n",
    "#选择模型\n",
    "model=LogisticRegression()\n",
    "model.fit(x,y)\n",
    "model.predict(x)\n",
    "model.score(x,y)\n"
   ]
  },
  {
   "cell_type": "markdown",
   "metadata": {},
   "source": [
    "## 2、SVM"
   ]
  },
  {
   "cell_type": "code",
   "execution_count": 72,
   "metadata": {},
   "outputs": [
    {
     "data": {
      "text/plain": [
       "0.9866666666666667"
      ]
     },
     "execution_count": 72,
     "metadata": {},
     "output_type": "execute_result"
    }
   ],
   "source": [
    "#分类 svm.SVC  回归问题 svm.SVR   线性核时 svm.LinearSVC更高效\n",
    "from sklearn import svm\n",
    "x=iris.data\n",
    "y=iris.target\n",
    "\n",
    "svc=svm.SVC()      #kernel='rbf'高斯,'linear'线性,'poly'多项式,'sigmoid'\n",
    "svc.fit(x,y)\n",
    "svc.predict(x)\n",
    "svc.score(x,y)     #mean accuracy\n",
    "#svc.decision_function([[5.1, 3.5, 1.4, 0.2]])  #判断实例到分类超平面的距离，据此划分阈值分类\n",
    "#svc.support_            #支持向量的索引\n",
    "#svc.support_vectors_    #支持向量"
   ]
  },
  {
   "cell_type": "code",
   "execution_count": 55,
   "metadata": {},
   "outputs": [],
   "source": []
  }
 ],
 "metadata": {
  "kernelspec": {
   "display_name": "Python [default]",
   "language": "python",
   "name": "python3"
  },
  "language_info": {
   "codemirror_mode": {
    "name": "ipython",
    "version": 3
   },
   "file_extension": ".py",
   "mimetype": "text/x-python",
   "name": "python",
   "nbconvert_exporter": "python",
   "pygments_lexer": "ipython3",
   "version": "3.7.0"
  }
 },
 "nbformat": 4,
 "nbformat_minor": 2
}
