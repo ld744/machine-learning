{
 "cells": [
  {
   "cell_type": "markdown",
   "metadata": {},
   "source": [
    "# Model\n",
    "## 1、linear_model"
   ]
  },
  {
   "cell_type": "code",
   "execution_count": 16,
   "metadata": {},
   "outputs": [],
   "source": [
    "#数据集\n",
    "from sklearn.datasets import load_iris\n",
    "iris = load_iris()\n",
    "x=iris.data\n",
    "y=iris.target"
   ]
  },
  {
   "cell_type": "code",
   "execution_count": 17,
   "metadata": {},
   "outputs": [
    {
     "data": {
      "text/plain": [
       "0.9304223675331597"
      ]
     },
     "execution_count": 17,
     "metadata": {},
     "output_type": "execute_result"
    }
   ],
   "source": [
    "#线性回归\n",
    "from sklearn.linear_model import LinearRegression\n",
    "model=LinearRegression()\n",
    "model.fit(x,y)\n",
    "[model.coef_,model.intercept_]\n",
    "model.predict(x)\n",
    "model.score(x,y)   #R^2值"
   ]
  },
  {
   "cell_type": "code",
   "execution_count": 18,
   "metadata": {},
   "outputs": [
    {
     "data": {
      "text/plain": [
       "0.9303309487353288"
      ]
     },
     "execution_count": 18,
     "metadata": {},
     "output_type": "execute_result"
    }
   ],
   "source": [
    "#岭回归---L2正则化\n",
    "from sklearn.linear_model import RidgeCV\n",
    "model=RidgeCV(alphas=[0.1,0.5,1])\n",
    "model.fit(x,y)\n",
    "[model.alpha_,model.coef_,model.intercept_]\n",
    "model.predict(x)\n",
    "model.score(x,y)   #R^2值"
   ]
  },
  {
   "cell_type": "code",
   "execution_count": 19,
   "metadata": {},
   "outputs": [
    {
     "data": {
      "text/plain": [
       "0.9303676177484362"
      ]
     },
     "execution_count": 19,
     "metadata": {},
     "output_type": "execute_result"
    }
   ],
   "source": [
    "#Lasso回归---L1正则化，高维特征，线性稀疏\n",
    "from sklearn.linear_model import LassoCV,lasso_path\n",
    "\n",
    "model=LassoCV(cv=5)\n",
    "model.fit(x,y)\n",
    "[model.alpha_,model.coef_,model.intercept_]\n",
    "model.predict(x)\n",
    "model.score(x,y)   #R^2值\n",
    "\n",
    "#lasso_path\n",
    "#alpha_,coef_,_=lasso_path(x,y,alphas=[0.001,0.01,0.1])\n",
    "#[alpha_,coef_]"
   ]
  },
  {
   "cell_type": "code",
   "execution_count": 20,
   "metadata": {},
   "outputs": [
    {
     "name": "stderr",
     "output_type": "stream",
     "text": [
      "C:\\Users\\Taylor\\Anaconda3\\lib\\site-packages\\sklearn\\linear_model\\sag.py:326: ConvergenceWarning: The max_iter was reached which means the coef_ did not converge\n",
      "  \"the coef_ did not converge\", ConvergenceWarning)\n"
     ]
    },
    {
     "data": {
      "text/plain": [
       "0.9666666666666667"
      ]
     },
     "execution_count": 20,
     "metadata": {},
     "output_type": "execute_result"
    }
   ],
   "source": [
    "#逻辑回归\n",
    "from sklearn.linear_model import LogisticRegression  #还有LogisticRegressionCV\n",
    "model=LogisticRegression(solver='saga')  #默认参数不如saga\n",
    "model.fit(x,y)\n",
    "model.predict(x)\n",
    "model.score(x,y)   #mean accuracy"
   ]
  },
  {
   "cell_type": "code",
   "execution_count": 31,
   "metadata": {},
   "outputs": [
    {
     "name": "stderr",
     "output_type": "stream",
     "text": [
      "C:\\Users\\Taylor\\Anaconda3\\lib\\site-packages\\sklearn\\linear_model\\stochastic_gradient.py:128: FutureWarning: max_iter and tol parameters have been added in <class 'sklearn.linear_model.stochastic_gradient.SGDClassifier'> in 0.19. If both are left unset, they default to max_iter=5 and tol=None. If tol is not None, max_iter defaults to max_iter=1000. From 0.21, default max_iter will be 1000, and default tol will be 1e-3.\n",
      "  \"and default tol will be 1e-3.\" % type(self), FutureWarning)\n"
     ]
    },
    {
     "data": {
      "text/plain": [
       "0.9733333333333334"
      ]
     },
     "execution_count": 31,
     "metadata": {},
     "output_type": "execute_result"
    }
   ],
   "source": [
    "#随机梯度下降  ---使用时需要数据正则化\n",
    "from sklearn.linear_model import SGDClassifier,SGDRegressor\n",
    "model=SGDClassifier(loss='hinge')    # hinge:linear_svm  ; log: logistic\n",
    "\n",
    "from sklearn.preprocessing import MinMaxScaler\n",
    "x = MinMaxScaler().fit_transform(x)\n",
    "\n",
    "model.fit(x,y)\n",
    "model.predict(x)\n",
    "model.score(x,y)   #mean accuracy"
   ]
  },
  {
   "cell_type": "code",
   "execution_count": 32,
   "metadata": {},
   "outputs": [
    {
     "data": {
      "text/plain": [
       "0.9933333333333333"
      ]
     },
     "execution_count": 32,
     "metadata": {},
     "output_type": "execute_result"
    }
   ],
   "source": [
    "#多项式回归---等价于特征处理\n",
    "from sklearn.preprocessing import  PolynomialFeatures  \n",
    "x=iris.data\n",
    "y=iris.target\n",
    "\n",
    "#特征处理\n",
    "poly=PolynomialFeatures(degree=4)\n",
    "x=poly.fit_transform(x)\n",
    "\n",
    "model=LogisticRegression()\n",
    "model.fit(x,y)\n",
    "model.predict(x)\n",
    "model.score(x,y)"
   ]
  },
  {
   "cell_type": "markdown",
   "metadata": {},
   "source": [
    "## 2、SVM"
   ]
  },
  {
   "cell_type": "code",
   "execution_count": null,
   "metadata": {},
   "outputs": [],
   "source": []
  }
 ],
 "metadata": {
  "kernelspec": {
   "display_name": "Python 3",
   "language": "python",
   "name": "python3"
  },
  "language_info": {
   "codemirror_mode": {
    "name": "ipython",
    "version": 3
   },
   "file_extension": ".py",
   "mimetype": "text/x-python",
   "name": "python",
   "nbconvert_exporter": "python",
   "pygments_lexer": "ipython3",
   "version": "3.6.6"
  }
 },
 "nbformat": 4,
 "nbformat_minor": 2
}
